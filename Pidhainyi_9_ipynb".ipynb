{
  "cells": [
    {
      "cell_type": "markdown",
      "metadata": {
        "id": "view-in-github",
        "colab_type": "text"
      },
      "source": [
        "<a href=\"https://colab.research.google.com/github/Denys20233/University/blob/main/Pidhainyi_9_ipynb%22.ipynb\" target=\"_parent\"><img src=\"https://colab.research.google.com/assets/colab-badge.svg\" alt=\"Open In Colab\"/></a>"
      ]
    },
    {
      "cell_type": "markdown",
      "source": [
        "# Лабораторна робота 9. PySpark\n",
        "\n",
        "\n",
        "1) Завантжатити датасет https://www.kaggle.com/datasets/soheiltehranipour/cruise-used-for-pyspark\n",
        "\n",
        "2) Виконати основні функції для спарк, побудувати 3 графіки"
      ],
      "metadata": {
        "id": "pyRDJUyjmMOQ"
      }
    },
    {
      "cell_type": "code",
      "execution_count": null,
      "metadata": {
        "colab": {
          "base_uri": "https://localhost:8080/"
        },
        "id": "MWdWarYwFwh9",
        "outputId": "f4d8953c-8aa6-48c2-e430-1f0424e93a92"
      },
      "outputs": [
        {
          "output_type": "stream",
          "name": "stdout",
          "text": [
            "Collecting pyspark==3.5.1\n",
            "  Downloading pyspark-3.5.1.tar.gz (317.0 MB)\n",
            "\u001b[2K     \u001b[90m━━━━━━━━━━━━━━━━━━━━━━━━━━━━━━━━━━━━━━━\u001b[0m \u001b[32m317.0/317.0 MB\u001b[0m \u001b[31m4.0 MB/s\u001b[0m eta \u001b[36m0:00:00\u001b[0m\n",
            "\u001b[?25h  Preparing metadata (setup.py) ... \u001b[?25l\u001b[?25hdone\n",
            "Requirement already satisfied: py4j==0.10.9.7 in /usr/local/lib/python3.11/dist-packages (from pyspark==3.5.1) (0.10.9.7)\n",
            "Building wheels for collected packages: pyspark\n",
            "  Building wheel for pyspark (setup.py) ... \u001b[?25l\u001b[?25hdone\n",
            "  Created wheel for pyspark: filename=pyspark-3.5.1-py2.py3-none-any.whl size=317488493 sha256=75dd6902605d7635f8ccf2a22f6c1953173f2baf69e5baf5ed610b1d70eaebe5\n",
            "  Stored in directory: /root/.cache/pip/wheels/95/13/41/f7f135ee114175605fb4f0a89e7389f3742aa6c1e1a5bcb657\n",
            "Successfully built pyspark\n",
            "Installing collected packages: pyspark\n",
            "Successfully installed pyspark-3.5.1\n"
          ]
        }
      ],
      "source": [
        "!pip install pyspark==3.5.1"
      ]
    },
    {
      "cell_type": "markdown",
      "source": [
        "Створення SparkSession"
      ],
      "metadata": {
        "id": "LdjC4UddpiRq"
      }
    },
    {
      "cell_type": "code",
      "execution_count": null,
      "metadata": {
        "id": "Cv6THbRdCzvr"
      },
      "outputs": [],
      "source": [
        "from pyspark.sql import SparkSession\n",
        "\n",
        "spark = SparkSession.builder\\\n",
        "    .master(\"local[*]\")\\\n",
        "    .appName(\"Colab_PySpark\")\\\n",
        "    .getOrCreate()"
      ]
    },
    {
      "cell_type": "code",
      "source": [
        "from google.colab import files\n",
        "uploaded = files.upload()"
      ],
      "metadata": {
        "colab": {
          "base_uri": "https://localhost:8080/",
          "height": 73
        },
        "id": "j7h9_q-w_McV",
        "outputId": "e6ffd838-f769-4874-9fb9-93d525a9c18c"
      },
      "execution_count": null,
      "outputs": [
        {
          "output_type": "display_data",
          "data": {
            "text/plain": [
              "<IPython.core.display.HTML object>"
            ],
            "text/html": [
              "\n",
              "     <input type=\"file\" id=\"files-ab58f018-3707-4fc9-826d-2dc3dba214de\" name=\"files[]\" multiple disabled\n",
              "        style=\"border:none\" />\n",
              "     <output id=\"result-ab58f018-3707-4fc9-826d-2dc3dba214de\">\n",
              "      Upload widget is only available when the cell has been executed in the\n",
              "      current browser session. Please rerun this cell to enable.\n",
              "      </output>\n",
              "      <script>// Copyright 2017 Google LLC\n",
              "//\n",
              "// Licensed under the Apache License, Version 2.0 (the \"License\");\n",
              "// you may not use this file except in compliance with the License.\n",
              "// You may obtain a copy of the License at\n",
              "//\n",
              "//      http://www.apache.org/licenses/LICENSE-2.0\n",
              "//\n",
              "// Unless required by applicable law or agreed to in writing, software\n",
              "// distributed under the License is distributed on an \"AS IS\" BASIS,\n",
              "// WITHOUT WARRANTIES OR CONDITIONS OF ANY KIND, either express or implied.\n",
              "// See the License for the specific language governing permissions and\n",
              "// limitations under the License.\n",
              "\n",
              "/**\n",
              " * @fileoverview Helpers for google.colab Python module.\n",
              " */\n",
              "(function(scope) {\n",
              "function span(text, styleAttributes = {}) {\n",
              "  const element = document.createElement('span');\n",
              "  element.textContent = text;\n",
              "  for (const key of Object.keys(styleAttributes)) {\n",
              "    element.style[key] = styleAttributes[key];\n",
              "  }\n",
              "  return element;\n",
              "}\n",
              "\n",
              "// Max number of bytes which will be uploaded at a time.\n",
              "const MAX_PAYLOAD_SIZE = 100 * 1024;\n",
              "\n",
              "function _uploadFiles(inputId, outputId) {\n",
              "  const steps = uploadFilesStep(inputId, outputId);\n",
              "  const outputElement = document.getElementById(outputId);\n",
              "  // Cache steps on the outputElement to make it available for the next call\n",
              "  // to uploadFilesContinue from Python.\n",
              "  outputElement.steps = steps;\n",
              "\n",
              "  return _uploadFilesContinue(outputId);\n",
              "}\n",
              "\n",
              "// This is roughly an async generator (not supported in the browser yet),\n",
              "// where there are multiple asynchronous steps and the Python side is going\n",
              "// to poll for completion of each step.\n",
              "// This uses a Promise to block the python side on completion of each step,\n",
              "// then passes the result of the previous step as the input to the next step.\n",
              "function _uploadFilesContinue(outputId) {\n",
              "  const outputElement = document.getElementById(outputId);\n",
              "  const steps = outputElement.steps;\n",
              "\n",
              "  const next = steps.next(outputElement.lastPromiseValue);\n",
              "  return Promise.resolve(next.value.promise).then((value) => {\n",
              "    // Cache the last promise value to make it available to the next\n",
              "    // step of the generator.\n",
              "    outputElement.lastPromiseValue = value;\n",
              "    return next.value.response;\n",
              "  });\n",
              "}\n",
              "\n",
              "/**\n",
              " * Generator function which is called between each async step of the upload\n",
              " * process.\n",
              " * @param {string} inputId Element ID of the input file picker element.\n",
              " * @param {string} outputId Element ID of the output display.\n",
              " * @return {!Iterable<!Object>} Iterable of next steps.\n",
              " */\n",
              "function* uploadFilesStep(inputId, outputId) {\n",
              "  const inputElement = document.getElementById(inputId);\n",
              "  inputElement.disabled = false;\n",
              "\n",
              "  const outputElement = document.getElementById(outputId);\n",
              "  outputElement.innerHTML = '';\n",
              "\n",
              "  const pickedPromise = new Promise((resolve) => {\n",
              "    inputElement.addEventListener('change', (e) => {\n",
              "      resolve(e.target.files);\n",
              "    });\n",
              "  });\n",
              "\n",
              "  const cancel = document.createElement('button');\n",
              "  inputElement.parentElement.appendChild(cancel);\n",
              "  cancel.textContent = 'Cancel upload';\n",
              "  const cancelPromise = new Promise((resolve) => {\n",
              "    cancel.onclick = () => {\n",
              "      resolve(null);\n",
              "    };\n",
              "  });\n",
              "\n",
              "  // Wait for the user to pick the files.\n",
              "  const files = yield {\n",
              "    promise: Promise.race([pickedPromise, cancelPromise]),\n",
              "    response: {\n",
              "      action: 'starting',\n",
              "    }\n",
              "  };\n",
              "\n",
              "  cancel.remove();\n",
              "\n",
              "  // Disable the input element since further picks are not allowed.\n",
              "  inputElement.disabled = true;\n",
              "\n",
              "  if (!files) {\n",
              "    return {\n",
              "      response: {\n",
              "        action: 'complete',\n",
              "      }\n",
              "    };\n",
              "  }\n",
              "\n",
              "  for (const file of files) {\n",
              "    const li = document.createElement('li');\n",
              "    li.append(span(file.name, {fontWeight: 'bold'}));\n",
              "    li.append(span(\n",
              "        `(${file.type || 'n/a'}) - ${file.size} bytes, ` +\n",
              "        `last modified: ${\n",
              "            file.lastModifiedDate ? file.lastModifiedDate.toLocaleDateString() :\n",
              "                                    'n/a'} - `));\n",
              "    const percent = span('0% done');\n",
              "    li.appendChild(percent);\n",
              "\n",
              "    outputElement.appendChild(li);\n",
              "\n",
              "    const fileDataPromise = new Promise((resolve) => {\n",
              "      const reader = new FileReader();\n",
              "      reader.onload = (e) => {\n",
              "        resolve(e.target.result);\n",
              "      };\n",
              "      reader.readAsArrayBuffer(file);\n",
              "    });\n",
              "    // Wait for the data to be ready.\n",
              "    let fileData = yield {\n",
              "      promise: fileDataPromise,\n",
              "      response: {\n",
              "        action: 'continue',\n",
              "      }\n",
              "    };\n",
              "\n",
              "    // Use a chunked sending to avoid message size limits. See b/62115660.\n",
              "    let position = 0;\n",
              "    do {\n",
              "      const length = Math.min(fileData.byteLength - position, MAX_PAYLOAD_SIZE);\n",
              "      const chunk = new Uint8Array(fileData, position, length);\n",
              "      position += length;\n",
              "\n",
              "      const base64 = btoa(String.fromCharCode.apply(null, chunk));\n",
              "      yield {\n",
              "        response: {\n",
              "          action: 'append',\n",
              "          file: file.name,\n",
              "          data: base64,\n",
              "        },\n",
              "      };\n",
              "\n",
              "      let percentDone = fileData.byteLength === 0 ?\n",
              "          100 :\n",
              "          Math.round((position / fileData.byteLength) * 100);\n",
              "      percent.textContent = `${percentDone}% done`;\n",
              "\n",
              "    } while (position < fileData.byteLength);\n",
              "  }\n",
              "\n",
              "  // All done.\n",
              "  yield {\n",
              "    response: {\n",
              "      action: 'complete',\n",
              "    }\n",
              "  };\n",
              "}\n",
              "\n",
              "scope.google = scope.google || {};\n",
              "scope.google.colab = scope.google.colab || {};\n",
              "scope.google.colab._files = {\n",
              "  _uploadFiles,\n",
              "  _uploadFilesContinue,\n",
              "};\n",
              "})(self);\n",
              "</script> "
            ]
          },
          "metadata": {}
        },
        {
          "output_type": "stream",
          "name": "stdout",
          "text": [
            "Saving cruise_dataset.csv to cruise_dataset.csv\n"
          ]
        }
      ]
    },
    {
      "cell_type": "markdown",
      "source": [
        "Зчитування даних"
      ],
      "metadata": {
        "id": "BXYkyk-bpm_J"
      }
    },
    {
      "cell_type": "code",
      "execution_count": null,
      "metadata": {
        "colab": {
          "base_uri": "https://localhost:8080/"
        },
        "id": "bun_QlqjGH9S",
        "outputId": "95a304df-cf2a-40ad-940d-a769473758b7"
      },
      "outputs": [
        {
          "output_type": "stream",
          "name": "stdout",
          "text": [
            "root\n",
            " |-- Ship_name: string (nullable = true)\n",
            " |-- Cruise_line: string (nullable = true)\n",
            " |-- Age: integer (nullable = true)\n",
            " |-- Tonnage: double (nullable = true)\n",
            " |-- passengers: double (nullable = true)\n",
            " |-- length: double (nullable = true)\n",
            " |-- cabins: double (nullable = true)\n",
            " |-- passenger_density: double (nullable = true)\n",
            " |-- crew: double (nullable = true)\n",
            "\n"
          ]
        }
      ],
      "source": [
        "data = spark.read.csv(\n",
        "    'cruise_dataset.csv',\n",
        "    sep=',',\n",
        "    header=True,\n",
        "    inferSchema=True\n",
        ")\n",
        "\n",
        "data.printSchema()"
      ]
    },
    {
      "cell_type": "markdown",
      "source": [
        " Схема даних"
      ],
      "metadata": {
        "id": "L0hxkFwkpwek"
      }
    },
    {
      "cell_type": "code",
      "source": [
        "data.schema"
      ],
      "metadata": {
        "colab": {
          "base_uri": "https://localhost:8080/"
        },
        "id": "HMw6bLikDXFw",
        "outputId": "85350bc1-6874-4300-c747-f33a34c65204"
      },
      "execution_count": null,
      "outputs": [
        {
          "output_type": "execute_result",
          "data": {
            "text/plain": [
              "StructType([StructField('Ship_name', StringType(), True), StructField('Cruise_line', StringType(), True), StructField('Age', IntegerType(), True), StructField('Tonnage', DoubleType(), True), StructField('passengers', DoubleType(), True), StructField('length', DoubleType(), True), StructField('cabins', DoubleType(), True), StructField('passenger_density', DoubleType(), True), StructField('crew', DoubleType(), True)])"
            ]
          },
          "metadata": {},
          "execution_count": 5
        }
      ]
    },
    {
      "cell_type": "markdown",
      "source": [
        "Список кортежів з іменами стовпців і типами даних"
      ],
      "metadata": {
        "id": "RTe48wu9p3_I"
      }
    },
    {
      "cell_type": "code",
      "source": [
        "data.dtypes"
      ],
      "metadata": {
        "colab": {
          "base_uri": "https://localhost:8080/"
        },
        "id": "3hJkkffoD-II",
        "outputId": "5de89a9a-ccef-43a8-ff3c-8e688a6d677d"
      },
      "execution_count": null,
      "outputs": [
        {
          "output_type": "execute_result",
          "data": {
            "text/plain": [
              "[('Ship_name', 'string'),\n",
              " ('Cruise_line', 'string'),\n",
              " ('Age', 'int'),\n",
              " ('Tonnage', 'double'),\n",
              " ('passengers', 'double'),\n",
              " ('length', 'double'),\n",
              " ('cabins', 'double'),\n",
              " ('passenger_density', 'double'),\n",
              " ('crew', 'double')]"
            ]
          },
          "metadata": {},
          "execution_count": 6
        }
      ]
    },
    {
      "cell_type": "markdown",
      "source": [
        "Перші 20 рядків data"
      ],
      "metadata": {
        "id": "Nrf9mFNcqBLX"
      }
    },
    {
      "cell_type": "code",
      "source": [
        "data.show() #.head(5), .show(), .first(), take(3)"
      ],
      "metadata": {
        "colab": {
          "base_uri": "https://localhost:8080/"
        },
        "id": "2-gqyJ09D_Cw",
        "outputId": "98cd5258-3c41-4ca2-c8cd-df5378a01730"
      },
      "execution_count": null,
      "outputs": [
        {
          "output_type": "stream",
          "name": "stdout",
          "text": [
            "+-----------+-----------+---+------------------+----------+------+------+-----------------+----+\n",
            "|  Ship_name|Cruise_line|Age|           Tonnage|passengers|length|cabins|passenger_density|crew|\n",
            "+-----------+-----------+---+------------------+----------+------+------+-----------------+----+\n",
            "|    Journey|    Azamara|  6|30.276999999999997|      6.94|  5.94|  3.55|            42.64|3.55|\n",
            "|      Quest|    Azamara|  6|30.276999999999997|      6.94|  5.94|  3.55|            42.64|3.55|\n",
            "|Celebration|   Carnival| 26|            47.262|     14.86|  7.22|  7.43|             31.8| 6.7|\n",
            "|   Conquest|   Carnival| 11|             110.0|     29.74|  9.53| 14.88|            36.99|19.1|\n",
            "|    Destiny|   Carnival| 17|           101.353|     26.42|  8.92| 13.21|            38.36|10.0|\n",
            "|    Ecstasy|   Carnival| 22|            70.367|     20.52|  8.55|  10.2|            34.29| 9.2|\n",
            "|    Elation|   Carnival| 15|            70.367|     20.52|  8.55|  10.2|            34.29| 9.2|\n",
            "|    Fantasy|   Carnival| 23|            70.367|     20.56|  8.55| 10.22|            34.23| 9.2|\n",
            "|Fascination|   Carnival| 19|            70.367|     20.52|  8.55|  10.2|            34.29| 9.2|\n",
            "|    Freedom|   Carnival|  6|110.23899999999999|      37.0|  9.51| 14.87|            29.79|11.5|\n",
            "|      Glory|   Carnival| 10|             110.0|     29.74|  9.51| 14.87|            36.99|11.6|\n",
            "|    Holiday|   Carnival| 28|            46.052|     14.52|  7.27|  7.26|            31.72| 6.6|\n",
            "|Imagination|   Carnival| 18|            70.367|     20.52|  8.55|  10.2|            34.29| 9.2|\n",
            "|Inspiration|   Carnival| 17|            70.367|     20.52|  8.55|  10.2|            34.29| 9.2|\n",
            "|     Legend|   Carnival| 11|              86.0|     21.24|  9.63| 10.62|            40.49| 9.3|\n",
            "|   Liberty*|   Carnival|  8|             110.0|     29.74|  9.51| 14.87|            36.99|11.6|\n",
            "|    Miracle|   Carnival|  9|              88.5|     21.24|  9.63| 10.62|            41.67|10.3|\n",
            "|   Paradise|   Carnival| 15|            70.367|     20.52|  8.55|  10.2|            34.29| 9.2|\n",
            "|      Pride|   Carnival| 12|              88.5|     21.24|  9.63| 11.62|            41.67| 9.3|\n",
            "|  Sensation|   Carnival| 20|            70.367|     20.52|  8.55|  10.2|            34.29| 9.2|\n",
            "+-----------+-----------+---+------------------+----------+------+------+-----------------+----+\n",
            "only showing top 20 rows\n",
            "\n"
          ]
        }
      ]
    },
    {
      "cell_type": "code",
      "source": [
        "data.describe()"
      ],
      "metadata": {
        "colab": {
          "base_uri": "https://localhost:8080/"
        },
        "id": "WP4I4fR7KGBS",
        "outputId": "d8e6237f-e392-45b6-8aea-11ea171ea237"
      },
      "execution_count": null,
      "outputs": [
        {
          "output_type": "execute_result",
          "data": {
            "text/plain": [
              "DataFrame[summary: string, Ship_name: string, Cruise_line: string, Age: string, Tonnage: string, passengers: string, length: string, cabins: string, passenger_density: string, crew: string]"
            ]
          },
          "metadata": {},
          "execution_count": 9
        }
      ]
    },
    {
      "cell_type": "code",
      "execution_count": null,
      "metadata": {
        "colab": {
          "base_uri": "https://localhost:8080/"
        },
        "id": "a_n50s6eGIEg",
        "outputId": "bba0f690-9224-43d7-dc3c-708423737a40"
      },
      "outputs": [
        {
          "output_type": "execute_result",
          "data": {
            "text/plain": [
              "['Ship_name',\n",
              " 'Cruise_line',\n",
              " 'Age',\n",
              " 'Tonnage',\n",
              " 'passengers',\n",
              " 'length',\n",
              " 'cabins',\n",
              " 'passenger_density',\n",
              " 'crew']"
            ]
          },
          "metadata": {},
          "execution_count": 10
        }
      ],
      "source": [
        "data.columns"
      ]
    },
    {
      "cell_type": "code",
      "source": [
        "data.count()"
      ],
      "metadata": {
        "colab": {
          "base_uri": "https://localhost:8080/"
        },
        "id": "uRQO1P3FKdCr",
        "outputId": "ba3eb63f-b8e4-44fe-8f82-76efe392fae6"
      },
      "execution_count": null,
      "outputs": [
        {
          "output_type": "execute_result",
          "data": {
            "text/plain": [
              "158"
            ]
          },
          "metadata": {},
          "execution_count": 11
        }
      ]
    },
    {
      "cell_type": "code",
      "source": [
        "data.distinct()"
      ],
      "metadata": {
        "colab": {
          "base_uri": "https://localhost:8080/"
        },
        "id": "wM23XFEGKmG6",
        "outputId": "8091ffef-fc86-452a-9ef2-b49a8e7664bc"
      },
      "execution_count": null,
      "outputs": [
        {
          "output_type": "execute_result",
          "data": {
            "text/plain": [
              "DataFrame[Ship_name: string, Cruise_line: string, Age: int, Tonnage: double, passengers: double, length: double, cabins: double, passenger_density: double, crew: double]"
            ]
          },
          "metadata": {},
          "execution_count": 12
        }
      ]
    },
    {
      "cell_type": "markdown",
      "source": [
        "Додавання стовпчика passenger_crew_ratio"
      ],
      "metadata": {
        "id": "u6Mab2BMqPtX"
      }
    },
    {
      "cell_type": "code",
      "execution_count": null,
      "metadata": {
        "colab": {
          "base_uri": "https://localhost:8080/"
        },
        "id": "MguG5jDkGIIs",
        "outputId": "eaaa803d-f125-4192-88e3-a20000cf489b"
      },
      "outputs": [
        {
          "output_type": "stream",
          "name": "stdout",
          "text": [
            "+-----------+-----------+---+------------------+----------+------+------+-----------------+----+--------------------+\n",
            "|  Ship_name|Cruise_line|Age|           Tonnage|passengers|length|cabins|passenger_density|crew|passenger_crew_ratio|\n",
            "+-----------+-----------+---+------------------+----------+------+------+-----------------+----+--------------------+\n",
            "|    Journey|    Azamara|  6|30.276999999999997|      6.94|  5.94|  3.55|            42.64|3.55|   1.954929577464789|\n",
            "|      Quest|    Azamara|  6|30.276999999999997|      6.94|  5.94|  3.55|            42.64|3.55|   1.954929577464789|\n",
            "|Celebration|   Carnival| 26|            47.262|     14.86|  7.22|  7.43|             31.8| 6.7|  2.2179104477611937|\n",
            "|   Conquest|   Carnival| 11|             110.0|     29.74|  9.53| 14.88|            36.99|19.1|  1.5570680628272249|\n",
            "|    Destiny|   Carnival| 17|           101.353|     26.42|  8.92| 13.21|            38.36|10.0|  2.6420000000000003|\n",
            "+-----------+-----------+---+------------------+----------+------+------+-----------------+----+--------------------+\n",
            "only showing top 5 rows\n",
            "\n"
          ]
        }
      ],
      "source": [
        "data = data.withColumn(\"passenger_crew_ratio\", col(\"passengers\") / col(\"crew\"))\n",
        "\n",
        "data.show(5)"
      ]
    },
    {
      "cell_type": "markdown",
      "source": [
        "Оновлення колонки"
      ],
      "metadata": {
        "id": "rSlBz1VpqUNS"
      }
    },
    {
      "cell_type": "code",
      "source": [
        "data = data.withColumnRenamed(\"passengers\", \"num_passengers\")\n",
        "\n",
        "data.show(5)"
      ],
      "metadata": {
        "colab": {
          "base_uri": "https://localhost:8080/"
        },
        "id": "d7aGooO8M179",
        "outputId": "49ca6a07-4103-4030-8f16-579a7f320792"
      },
      "execution_count": null,
      "outputs": [
        {
          "output_type": "stream",
          "name": "stdout",
          "text": [
            "+-----------+-----------+---+------------------+--------------+------+------+-----------------+----+--------------------+\n",
            "|  Ship_name|Cruise_line|Age|           Tonnage|num_passengers|length|cabins|passenger_density|crew|passenger_crew_ratio|\n",
            "+-----------+-----------+---+------------------+--------------+------+------+-----------------+----+--------------------+\n",
            "|    Journey|    Azamara|  6|30.276999999999997|          6.94|  5.94|  3.55|            42.64|3.55|   1.954929577464789|\n",
            "|      Quest|    Azamara|  6|30.276999999999997|          6.94|  5.94|  3.55|            42.64|3.55|   1.954929577464789|\n",
            "|Celebration|   Carnival| 26|            47.262|         14.86|  7.22|  7.43|             31.8| 6.7|  2.2179104477611937|\n",
            "|   Conquest|   Carnival| 11|             110.0|         29.74|  9.53| 14.88|            36.99|19.1|  1.5570680628272249|\n",
            "|    Destiny|   Carnival| 17|           101.353|         26.42|  8.92| 13.21|            38.36|10.0|  2.6420000000000003|\n",
            "+-----------+-----------+---+------------------+--------------+------+------+-----------------+----+--------------------+\n",
            "only showing top 5 rows\n",
            "\n"
          ]
        }
      ]
    },
    {
      "cell_type": "code",
      "source": [
        "# data = data.drop(\"passenger_density\")"
      ],
      "metadata": {
        "id": "BwxPzVqfM15L"
      },
      "execution_count": null,
      "outputs": []
    },
    {
      "cell_type": "markdown",
      "source": [
        "Заміна пропущених значень середнім"
      ],
      "metadata": {
        "id": "0IBHQAoiqelS"
      }
    },
    {
      "cell_type": "code",
      "source": [
        "from pyspark.sql.functions import mean\n",
        "\n",
        "# data = data.na.drop()\n",
        "\n",
        "data = data.na.fill({\"crew\": data.select(mean(col(\"crew\"))).collect()[0][0]})\n",
        "\n",
        "data.show(5)"
      ],
      "metadata": {
        "colab": {
          "base_uri": "https://localhost:8080/"
        },
        "id": "_1OwI6lgHZDz",
        "outputId": "2a588c8a-a310-4c6a-c3b0-ef2adef28998"
      },
      "execution_count": null,
      "outputs": [
        {
          "output_type": "stream",
          "name": "stdout",
          "text": [
            "+-----------+-----------+---+------------------+--------------+------+------+-----------------+----+--------------------+\n",
            "|  Ship_name|Cruise_line|Age|           Tonnage|num_passengers|length|cabins|passenger_density|crew|passenger_crew_ratio|\n",
            "+-----------+-----------+---+------------------+--------------+------+------+-----------------+----+--------------------+\n",
            "|    Journey|    Azamara|  6|30.276999999999997|          6.94|  5.94|  3.55|            42.64|3.55|   1.954929577464789|\n",
            "|      Quest|    Azamara|  6|30.276999999999997|          6.94|  5.94|  3.55|            42.64|3.55|   1.954929577464789|\n",
            "|Celebration|   Carnival| 26|            47.262|         14.86|  7.22|  7.43|             31.8| 6.7|  2.2179104477611937|\n",
            "|   Conquest|   Carnival| 11|             110.0|         29.74|  9.53| 14.88|            36.99|19.1|  1.5570680628272249|\n",
            "|    Destiny|   Carnival| 17|           101.353|         26.42|  8.92| 13.21|            38.36|10.0|  2.6420000000000003|\n",
            "+-----------+-----------+---+------------------+--------------+------+------+-----------------+----+--------------------+\n",
            "only showing top 5 rows\n",
            "\n"
          ]
        }
      ]
    },
    {
      "cell_type": "code",
      "execution_count": null,
      "metadata": {
        "colab": {
          "base_uri": "https://localhost:8080/"
        },
        "id": "bKUwaTkc83uo",
        "outputId": "46f9f537-48dc-492a-dd1e-fa04563e2b54"
      },
      "outputs": [
        {
          "output_type": "stream",
          "name": "stdout",
          "text": [
            "+-----------+\n",
            "|  Ship_name|\n",
            "+-----------+\n",
            "|    Journey|\n",
            "|      Quest|\n",
            "|Celebration|\n",
            "|   Conquest|\n",
            "|    Destiny|\n",
            "+-----------+\n",
            "only showing top 5 rows\n",
            "\n",
            "+--------------+-----------------+----+\n",
            "|num_passengers|passenger_density|crew|\n",
            "+--------------+-----------------+----+\n",
            "|          6.94|            42.64|3.55|\n",
            "|          6.94|            42.64|3.55|\n",
            "|         14.86|             31.8| 6.7|\n",
            "|         29.74|            36.99|19.1|\n",
            "|         26.42|            38.36|10.0|\n",
            "+--------------+-----------------+----+\n",
            "only showing top 5 rows\n",
            "\n"
          ]
        }
      ],
      "source": [
        "data.select('Ship_name').show(5)\n",
        "\n",
        "data.select(['num_passengers', 'passenger_density', 'crew']).show(5)"
      ]
    },
    {
      "cell_type": "code",
      "source": [
        "data.filter(\n",
        "    (col(\"Age\") > 20) & (col(\"Tonnage\").between(30, 70))\n",
        ").show(5)"
      ],
      "metadata": {
        "colab": {
          "base_uri": "https://localhost:8080/"
        },
        "id": "I3JmDSTl37la",
        "outputId": "edb3acf4-12dd-493b-ad70-5d14b475a04c"
      },
      "execution_count": null,
      "outputs": [
        {
          "output_type": "stream",
          "name": "stdout",
          "text": [
            "+-----------+-----------+---+-------+--------------+------+------+-----------------+----+--------------------+\n",
            "|  Ship_name|Cruise_line|Age|Tonnage|num_passengers|length|cabins|passenger_density|crew|passenger_crew_ratio|\n",
            "+-----------+-----------+---+-------+--------------+------+------+-----------------+----+--------------------+\n",
            "|Celebration|   Carnival| 26| 47.262|         14.86|  7.22|  7.43|             31.8| 6.7|  2.2179104477611937|\n",
            "|    Holiday|   Carnival| 28| 46.052|         14.52|  7.27|  7.26|            31.72| 6.6|                 2.2|\n",
            "|     Zenith|  Celebrity| 21| 47.225|         13.66|  6.82|  6.87|            34.57| 6.7|   2.038805970149254|\n",
            "|   Classica|      Costa| 22| 52.926|         13.02|  7.18|  6.54|            40.65|6.17|  2.1102106969205834|\n",
            "|     Europa|      Costa| 27| 53.872|         14.94|  7.98|  7.67|            36.06|6.36|  2.3490566037735845|\n",
            "+-----------+-----------+---+-------+--------------+------+------+-----------------+----+--------------------+\n",
            "only showing top 5 rows\n",
            "\n"
          ]
        }
      ]
    },
    {
      "cell_type": "code",
      "source": [
        "from pyspark.sql.functions import when\n",
        "\n",
        "data.select(\"Ship_name\", \"crew\", when(col(\"crew\") > 11, 1).otherwise(0).alias(\"large_crew\")).show(5)"
      ],
      "metadata": {
        "colab": {
          "base_uri": "https://localhost:8080/"
        },
        "id": "OHYB5AhWM119",
        "outputId": "c5533779-2463-4813-d07b-c4543aca2006"
      },
      "execution_count": null,
      "outputs": [
        {
          "output_type": "stream",
          "name": "stdout",
          "text": [
            "+-----------+----+----------+\n",
            "|  Ship_name|crew|large_crew|\n",
            "+-----------+----+----------+\n",
            "|    Journey|3.55|         0|\n",
            "|      Quest|3.55|         0|\n",
            "|Celebration| 6.7|         0|\n",
            "|   Conquest|19.1|         1|\n",
            "|    Destiny|10.0|         0|\n",
            "+-----------+----+----------+\n",
            "only showing top 5 rows\n",
            "\n"
          ]
        }
      ]
    },
    {
      "cell_type": "code",
      "source": [
        "data.filter(col(\"Ship_name\").rlike(\"^[Q|R]\")).show(5)"
      ],
      "metadata": {
        "colab": {
          "base_uri": "https://localhost:8080/"
        },
        "id": "4Pyb9979M1yh",
        "outputId": "a2773765-5a7a-481e-8366-1ac96673f006"
      },
      "execution_count": null,
      "outputs": [
        {
          "output_type": "stream",
          "name": "stdout",
          "text": [
            "+----------------+-----------+---+------------------+--------------+------+------+-----------------+-----+--------------------+\n",
            "|       Ship_name|Cruise_line|Age|           Tonnage|num_passengers|length|cabins|passenger_density| crew|passenger_crew_ratio|\n",
            "+----------------+-----------+---+------------------+--------------+------+------+-----------------+-----+--------------------+\n",
            "|           Quest|    Azamara|  6|30.276999999999997|          6.94|  5.94|  3.55|            42.64| 3.55|   1.954929577464789|\n",
            "|       Romantica|      Costa| 20|            53.049|         13.44|  7.22|  6.78|            39.47|  6.0|  2.2399999999999998|\n",
            "|QueenElizabethII|     Cunard| 44|            70.327|         17.91|  9.63|   9.5|            39.27| 9.21|  1.9446254071661235|\n",
            "|      QueenMary2|     Cunard| 10|             151.4|          26.2| 11.32| 11.34|            57.79|12.53|  2.0909816440542697|\n",
            "|   QueenVictoria|     Cunard|  6|              90.0|          20.0|  9.64| 10.29|             45.0|  9.0|  2.2222222222222223|\n",
            "+----------------+-----------+---+------------------+--------------+------+------+-----------------+-----+--------------------+\n",
            "only showing top 5 rows\n",
            "\n"
          ]
        }
      ]
    },
    {
      "cell_type": "code",
      "source": [
        "data.groupBy(\"Cruise_line\").mean(\"crew\").show()"
      ],
      "metadata": {
        "colab": {
          "base_uri": "https://localhost:8080/"
        },
        "id": "oU5oDF49M1u3",
        "outputId": "1025e292-ccd6-4663-8fe5-42703eb99ad8"
      },
      "execution_count": null,
      "outputs": [
        {
          "output_type": "stream",
          "name": "stdout",
          "text": [
            "+-----------------+------------------+\n",
            "|      Cruise_line|         avg(crew)|\n",
            "+-----------------+------------------+\n",
            "|            Costa|               7.7|\n",
            "|              P&O| 8.588333333333333|\n",
            "|           Cunard|10.246666666666668|\n",
            "|Regent_Seven_Seas|             3.146|\n",
            "|              MSC|              7.54|\n",
            "|         Carnival| 10.13590909090909|\n",
            "|          Crystal|             5.905|\n",
            "|           Orient|               3.5|\n",
            "|         Princess|  9.32235294117647|\n",
            "|        Silversea|            2.4725|\n",
            "|         Seabourn|1.6000000000000003|\n",
            "| Holland_American| 6.215000000000002|\n",
            "|         Windstar|1.1866666666666668|\n",
            "|           Disney|              9.45|\n",
            "|        Norwegian| 8.087692307692308|\n",
            "|          Oceania|               4.0|\n",
            "|          Azamara|              3.55|\n",
            "|        Celebrity|             8.072|\n",
            "|             Star| 5.363333333333333|\n",
            "|  Royal_Caribbean|10.016521739130434|\n",
            "+-----------------+------------------+\n",
            "\n"
          ]
        }
      ]
    },
    {
      "cell_type": "markdown",
      "source": [
        "Агрегeгування"
      ],
      "metadata": {
        "id": "9D1KipExqrM0"
      }
    },
    {
      "cell_type": "code",
      "source": [
        "from pyspark.sql import functions as f\n",
        "\n",
        "data.groupBy(\"Cruise_line\") \\\n",
        "    .agg(\n",
        "        f.min(\"Age\").alias(\"Мінімальний вік\"),\n",
        "        f.max(\"Age\").alias(\"Максимальний вік\"),\n",
        "        f.avg(\"Age\").alias(\"Середній вік\"),\n",
        "\n",
        "        f.min(\"Tonnage\").alias(\"Мінімальний тоннаж\"),\n",
        "        f.max(\"Tonnage\").alias(\"Максимальний тоннаж\"),\n",
        "        f.avg(\"Tonnage\").alias(\"Середній тоннаж\"),\n",
        "\n",
        "        f.min(\"num_passengers\").alias(\"Мінімум пасажирів\"),\n",
        "        f.max(\"num_passengers\").alias(\"Максимум пасажирів\"),\n",
        "        f.avg(\"num_passengers\").alias(\"Середня кількість пасажирів\")\n",
        "    ).show(truncate=False)"
      ],
      "metadata": {
        "colab": {
          "base_uri": "https://localhost:8080/"
        },
        "id": "kHpYUfuKarVF",
        "outputId": "7b3f9291-88f7-474b-91cc-7b2de6a449a1"
      },
      "execution_count": null,
      "outputs": [
        {
          "output_type": "stream",
          "name": "stdout",
          "text": [
            "+-----------------+---------------+----------------+------------------+------------------+-------------------+------------------+-----------------+------------------+---------------------------+\n",
            "|Cruise_line      |Мінімальний вік|Максимальний вік|Середній вік      |Мінімальний тоннаж|Максимальний тоннаж|Середній тоннаж   |Мінімум пасажирів|Максимум пасажирів|Середня кількість пасажирів|\n",
            "+-----------------+---------------+----------------+------------------+------------------+-------------------+------------------+-----------------+------------------+---------------------------+\n",
            "|Costa            |6              |27              |16.181818181818183|25.0              |112.0              |71.09654545454545 |7.76             |38.0              |19.200000000000003         |\n",
            "|P&O              |5              |29              |14.0              |45.0              |115.0              |77.85883333333334 |11.78            |35.74             |20.820000000000004         |\n",
            "|Cunard           |6              |44              |20.0              |70.327            |151.4              |103.90899999999999|17.91            |26.2              |21.37                      |\n",
            "|Regent_Seven_Seas|10             |27              |15.8              |12.5              |50.0               |32.14             |3.2              |7.0               |5.208                      |\n",
            "|MSC              |5              |36              |15.125            |16.852            |133.5              |63.77225          |9.52             |39.59             |18.87875                   |\n",
            "|Carnival         |6              |28              |15.227272727272727|46.052            |110.23899999999999 |84.65272727272728 |14.52            |37.0              |23.45818181818182          |\n",
            "|Crystal          |10             |18              |14.0              |51.004            |68.0               |59.501999999999995|9.4              |10.8              |10.100000000000001         |\n",
            "|Orient           |48             |48              |48.0              |22.08             |22.08              |22.08             |8.26             |8.26              |8.26                       |\n",
            "|Princess         |6              |29              |12.941176470588236|30.276999999999997|116.0              |87.53800000000001 |6.86             |37.82             |21.618823529411763         |\n",
            "|Silversea        |12             |19              |15.75             |16.8              |25.0               |20.9              |2.96             |3.88              |3.4050000000000002         |\n",
            "|Seabourn         |21             |27              |24.0              |10.0              |10.0               |10.0              |2.08             |2.08              |2.08                       |\n",
            "|Holland_American |5              |29              |17.071428571428573|33.92             |86.0               |60.50121428571428 |7.49             |21.04             |14.213571428571429         |\n",
            "|Windstar         |23             |27              |25.0              |5.35              |14.745             |8.481666666666667 |1.58             |3.08              |2.11                       |\n",
            "|Disney           |14             |15              |14.5              |83.0              |83.338             |83.169            |17.5             |17.5              |17.5                       |\n",
            "|Norwegian        |6              |40              |17.46153846153846 |28.0              |93.0               |63.71661538461539 |10.52            |23.94             |17.876923076923077         |\n",
            "|Oceania          |13             |15              |14.333333333333334|30.276999999999997|30.276999999999997 |30.276999999999997|6.84             |6.84              |6.84                       |\n",
            "|Azamara          |6              |6               |6.0               |30.276999999999997|30.276999999999997 |30.276999999999997|6.94             |6.94              |6.94                       |\n",
            "|Celebrity        |5              |21              |13.7              |2.329             |122.0              |76.1586           |0.94             |28.5              |17.979999999999997         |\n",
            "|Star             |12             |24              |19.166666666666668|3.341             |76.8               |30.77133333333333 |0.66             |19.6              |9.431666666666667          |\n",
            "|Royal_Caribbean  |4              |25              |13.652173913043478|48.563            |220.0              |107.01099999999998|18.0             |54.0              |28.849565217391298         |\n",
            "+-----------------+---------------+----------------+------------------+------------------+-------------------+------------------+-----------------+------------------+---------------------------+\n",
            "\n"
          ]
        }
      ]
    },
    {
      "cell_type": "markdown",
      "source": [
        "Візуалізація даних"
      ],
      "metadata": {
        "id": "a9mXrZxLqy02"
      }
    },
    {
      "cell_type": "code",
      "source": [
        "from matplotlib import pyplot as plt\n",
        "\n",
        "df = data.toPandas()\n",
        "df.head()"
      ],
      "metadata": {
        "colab": {
          "base_uri": "https://localhost:8080/",
          "height": 226
        },
        "id": "td6AQenmarRT",
        "outputId": "099dea33-bcf5-4892-9d36-01761b806b36"
      },
      "execution_count": null,
      "outputs": [
        {
          "output_type": "execute_result",
          "data": {
            "text/plain": [
              "     Ship_name Cruise_line  Age  Tonnage  num_passengers  length  cabins  \\\n",
              "0      Journey     Azamara    6   30.277            6.94    5.94    3.55   \n",
              "1        Quest     Azamara    6   30.277            6.94    5.94    3.55   \n",
              "2  Celebration    Carnival   26   47.262           14.86    7.22    7.43   \n",
              "3     Conquest    Carnival   11  110.000           29.74    9.53   14.88   \n",
              "4      Destiny    Carnival   17  101.353           26.42    8.92   13.21   \n",
              "\n",
              "   passenger_density   crew  passenger_crew_ratio  \n",
              "0              42.64   3.55              1.954930  \n",
              "1              42.64   3.55              1.954930  \n",
              "2              31.80   6.70              2.217910  \n",
              "3              36.99  19.10              1.557068  \n",
              "4              38.36  10.00              2.642000  "
            ],
            "text/html": [
              "\n",
              "  <div id=\"df-43b0c731-c069-4d1f-9e73-400d89258dee\" class=\"colab-df-container\">\n",
              "    <div>\n",
              "<style scoped>\n",
              "    .dataframe tbody tr th:only-of-type {\n",
              "        vertical-align: middle;\n",
              "    }\n",
              "\n",
              "    .dataframe tbody tr th {\n",
              "        vertical-align: top;\n",
              "    }\n",
              "\n",
              "    .dataframe thead th {\n",
              "        text-align: right;\n",
              "    }\n",
              "</style>\n",
              "<table border=\"1\" class=\"dataframe\">\n",
              "  <thead>\n",
              "    <tr style=\"text-align: right;\">\n",
              "      <th></th>\n",
              "      <th>Ship_name</th>\n",
              "      <th>Cruise_line</th>\n",
              "      <th>Age</th>\n",
              "      <th>Tonnage</th>\n",
              "      <th>num_passengers</th>\n",
              "      <th>length</th>\n",
              "      <th>cabins</th>\n",
              "      <th>passenger_density</th>\n",
              "      <th>crew</th>\n",
              "      <th>passenger_crew_ratio</th>\n",
              "    </tr>\n",
              "  </thead>\n",
              "  <tbody>\n",
              "    <tr>\n",
              "      <th>0</th>\n",
              "      <td>Journey</td>\n",
              "      <td>Azamara</td>\n",
              "      <td>6</td>\n",
              "      <td>30.277</td>\n",
              "      <td>6.94</td>\n",
              "      <td>5.94</td>\n",
              "      <td>3.55</td>\n",
              "      <td>42.64</td>\n",
              "      <td>3.55</td>\n",
              "      <td>1.954930</td>\n",
              "    </tr>\n",
              "    <tr>\n",
              "      <th>1</th>\n",
              "      <td>Quest</td>\n",
              "      <td>Azamara</td>\n",
              "      <td>6</td>\n",
              "      <td>30.277</td>\n",
              "      <td>6.94</td>\n",
              "      <td>5.94</td>\n",
              "      <td>3.55</td>\n",
              "      <td>42.64</td>\n",
              "      <td>3.55</td>\n",
              "      <td>1.954930</td>\n",
              "    </tr>\n",
              "    <tr>\n",
              "      <th>2</th>\n",
              "      <td>Celebration</td>\n",
              "      <td>Carnival</td>\n",
              "      <td>26</td>\n",
              "      <td>47.262</td>\n",
              "      <td>14.86</td>\n",
              "      <td>7.22</td>\n",
              "      <td>7.43</td>\n",
              "      <td>31.80</td>\n",
              "      <td>6.70</td>\n",
              "      <td>2.217910</td>\n",
              "    </tr>\n",
              "    <tr>\n",
              "      <th>3</th>\n",
              "      <td>Conquest</td>\n",
              "      <td>Carnival</td>\n",
              "      <td>11</td>\n",
              "      <td>110.000</td>\n",
              "      <td>29.74</td>\n",
              "      <td>9.53</td>\n",
              "      <td>14.88</td>\n",
              "      <td>36.99</td>\n",
              "      <td>19.10</td>\n",
              "      <td>1.557068</td>\n",
              "    </tr>\n",
              "    <tr>\n",
              "      <th>4</th>\n",
              "      <td>Destiny</td>\n",
              "      <td>Carnival</td>\n",
              "      <td>17</td>\n",
              "      <td>101.353</td>\n",
              "      <td>26.42</td>\n",
              "      <td>8.92</td>\n",
              "      <td>13.21</td>\n",
              "      <td>38.36</td>\n",
              "      <td>10.00</td>\n",
              "      <td>2.642000</td>\n",
              "    </tr>\n",
              "  </tbody>\n",
              "</table>\n",
              "</div>\n",
              "    <div class=\"colab-df-buttons\">\n",
              "\n",
              "  <div class=\"colab-df-container\">\n",
              "    <button class=\"colab-df-convert\" onclick=\"convertToInteractive('df-43b0c731-c069-4d1f-9e73-400d89258dee')\"\n",
              "            title=\"Convert this dataframe to an interactive table.\"\n",
              "            style=\"display:none;\">\n",
              "\n",
              "  <svg xmlns=\"http://www.w3.org/2000/svg\" height=\"24px\" viewBox=\"0 -960 960 960\">\n",
              "    <path d=\"M120-120v-720h720v720H120Zm60-500h600v-160H180v160Zm220 220h160v-160H400v160Zm0 220h160v-160H400v160ZM180-400h160v-160H180v160Zm440 0h160v-160H620v160ZM180-180h160v-160H180v160Zm440 0h160v-160H620v160Z\"/>\n",
              "  </svg>\n",
              "    </button>\n",
              "\n",
              "  <style>\n",
              "    .colab-df-container {\n",
              "      display:flex;\n",
              "      gap: 12px;\n",
              "    }\n",
              "\n",
              "    .colab-df-convert {\n",
              "      background-color: #E8F0FE;\n",
              "      border: none;\n",
              "      border-radius: 50%;\n",
              "      cursor: pointer;\n",
              "      display: none;\n",
              "      fill: #1967D2;\n",
              "      height: 32px;\n",
              "      padding: 0 0 0 0;\n",
              "      width: 32px;\n",
              "    }\n",
              "\n",
              "    .colab-df-convert:hover {\n",
              "      background-color: #E2EBFA;\n",
              "      box-shadow: 0px 1px 2px rgba(60, 64, 67, 0.3), 0px 1px 3px 1px rgba(60, 64, 67, 0.15);\n",
              "      fill: #174EA6;\n",
              "    }\n",
              "\n",
              "    .colab-df-buttons div {\n",
              "      margin-bottom: 4px;\n",
              "    }\n",
              "\n",
              "    [theme=dark] .colab-df-convert {\n",
              "      background-color: #3B4455;\n",
              "      fill: #D2E3FC;\n",
              "    }\n",
              "\n",
              "    [theme=dark] .colab-df-convert:hover {\n",
              "      background-color: #434B5C;\n",
              "      box-shadow: 0px 1px 3px 1px rgba(0, 0, 0, 0.15);\n",
              "      filter: drop-shadow(0px 1px 2px rgba(0, 0, 0, 0.3));\n",
              "      fill: #FFFFFF;\n",
              "    }\n",
              "  </style>\n",
              "\n",
              "    <script>\n",
              "      const buttonEl =\n",
              "        document.querySelector('#df-43b0c731-c069-4d1f-9e73-400d89258dee button.colab-df-convert');\n",
              "      buttonEl.style.display =\n",
              "        google.colab.kernel.accessAllowed ? 'block' : 'none';\n",
              "\n",
              "      async function convertToInteractive(key) {\n",
              "        const element = document.querySelector('#df-43b0c731-c069-4d1f-9e73-400d89258dee');\n",
              "        const dataTable =\n",
              "          await google.colab.kernel.invokeFunction('convertToInteractive',\n",
              "                                                    [key], {});\n",
              "        if (!dataTable) return;\n",
              "\n",
              "        const docLinkHtml = 'Like what you see? Visit the ' +\n",
              "          '<a target=\"_blank\" href=https://colab.research.google.com/notebooks/data_table.ipynb>data table notebook</a>'\n",
              "          + ' to learn more about interactive tables.';\n",
              "        element.innerHTML = '';\n",
              "        dataTable['output_type'] = 'display_data';\n",
              "        await google.colab.output.renderOutput(dataTable, element);\n",
              "        const docLink = document.createElement('div');\n",
              "        docLink.innerHTML = docLinkHtml;\n",
              "        element.appendChild(docLink);\n",
              "      }\n",
              "    </script>\n",
              "  </div>\n",
              "\n",
              "\n",
              "    <div id=\"df-ac833990-a79c-417c-be05-2575a53b2251\">\n",
              "      <button class=\"colab-df-quickchart\" onclick=\"quickchart('df-ac833990-a79c-417c-be05-2575a53b2251')\"\n",
              "                title=\"Suggest charts\"\n",
              "                style=\"display:none;\">\n",
              "\n",
              "<svg xmlns=\"http://www.w3.org/2000/svg\" height=\"24px\"viewBox=\"0 0 24 24\"\n",
              "     width=\"24px\">\n",
              "    <g>\n",
              "        <path d=\"M19 3H5c-1.1 0-2 .9-2 2v14c0 1.1.9 2 2 2h14c1.1 0 2-.9 2-2V5c0-1.1-.9-2-2-2zM9 17H7v-7h2v7zm4 0h-2V7h2v10zm4 0h-2v-4h2v4z\"/>\n",
              "    </g>\n",
              "</svg>\n",
              "      </button>\n",
              "\n",
              "<style>\n",
              "  .colab-df-quickchart {\n",
              "      --bg-color: #E8F0FE;\n",
              "      --fill-color: #1967D2;\n",
              "      --hover-bg-color: #E2EBFA;\n",
              "      --hover-fill-color: #174EA6;\n",
              "      --disabled-fill-color: #AAA;\n",
              "      --disabled-bg-color: #DDD;\n",
              "  }\n",
              "\n",
              "  [theme=dark] .colab-df-quickchart {\n",
              "      --bg-color: #3B4455;\n",
              "      --fill-color: #D2E3FC;\n",
              "      --hover-bg-color: #434B5C;\n",
              "      --hover-fill-color: #FFFFFF;\n",
              "      --disabled-bg-color: #3B4455;\n",
              "      --disabled-fill-color: #666;\n",
              "  }\n",
              "\n",
              "  .colab-df-quickchart {\n",
              "    background-color: var(--bg-color);\n",
              "    border: none;\n",
              "    border-radius: 50%;\n",
              "    cursor: pointer;\n",
              "    display: none;\n",
              "    fill: var(--fill-color);\n",
              "    height: 32px;\n",
              "    padding: 0;\n",
              "    width: 32px;\n",
              "  }\n",
              "\n",
              "  .colab-df-quickchart:hover {\n",
              "    background-color: var(--hover-bg-color);\n",
              "    box-shadow: 0 1px 2px rgba(60, 64, 67, 0.3), 0 1px 3px 1px rgba(60, 64, 67, 0.15);\n",
              "    fill: var(--button-hover-fill-color);\n",
              "  }\n",
              "\n",
              "  .colab-df-quickchart-complete:disabled,\n",
              "  .colab-df-quickchart-complete:disabled:hover {\n",
              "    background-color: var(--disabled-bg-color);\n",
              "    fill: var(--disabled-fill-color);\n",
              "    box-shadow: none;\n",
              "  }\n",
              "\n",
              "  .colab-df-spinner {\n",
              "    border: 2px solid var(--fill-color);\n",
              "    border-color: transparent;\n",
              "    border-bottom-color: var(--fill-color);\n",
              "    animation:\n",
              "      spin 1s steps(1) infinite;\n",
              "  }\n",
              "\n",
              "  @keyframes spin {\n",
              "    0% {\n",
              "      border-color: transparent;\n",
              "      border-bottom-color: var(--fill-color);\n",
              "      border-left-color: var(--fill-color);\n",
              "    }\n",
              "    20% {\n",
              "      border-color: transparent;\n",
              "      border-left-color: var(--fill-color);\n",
              "      border-top-color: var(--fill-color);\n",
              "    }\n",
              "    30% {\n",
              "      border-color: transparent;\n",
              "      border-left-color: var(--fill-color);\n",
              "      border-top-color: var(--fill-color);\n",
              "      border-right-color: var(--fill-color);\n",
              "    }\n",
              "    40% {\n",
              "      border-color: transparent;\n",
              "      border-right-color: var(--fill-color);\n",
              "      border-top-color: var(--fill-color);\n",
              "    }\n",
              "    60% {\n",
              "      border-color: transparent;\n",
              "      border-right-color: var(--fill-color);\n",
              "    }\n",
              "    80% {\n",
              "      border-color: transparent;\n",
              "      border-right-color: var(--fill-color);\n",
              "      border-bottom-color: var(--fill-color);\n",
              "    }\n",
              "    90% {\n",
              "      border-color: transparent;\n",
              "      border-bottom-color: var(--fill-color);\n",
              "    }\n",
              "  }\n",
              "</style>\n",
              "\n",
              "      <script>\n",
              "        async function quickchart(key) {\n",
              "          const quickchartButtonEl =\n",
              "            document.querySelector('#' + key + ' button');\n",
              "          quickchartButtonEl.disabled = true;  // To prevent multiple clicks.\n",
              "          quickchartButtonEl.classList.add('colab-df-spinner');\n",
              "          try {\n",
              "            const charts = await google.colab.kernel.invokeFunction(\n",
              "                'suggestCharts', [key], {});\n",
              "          } catch (error) {\n",
              "            console.error('Error during call to suggestCharts:', error);\n",
              "          }\n",
              "          quickchartButtonEl.classList.remove('colab-df-spinner');\n",
              "          quickchartButtonEl.classList.add('colab-df-quickchart-complete');\n",
              "        }\n",
              "        (() => {\n",
              "          let quickchartButtonEl =\n",
              "            document.querySelector('#df-ac833990-a79c-417c-be05-2575a53b2251 button');\n",
              "          quickchartButtonEl.style.display =\n",
              "            google.colab.kernel.accessAllowed ? 'block' : 'none';\n",
              "        })();\n",
              "      </script>\n",
              "    </div>\n",
              "    </div>\n",
              "  </div>\n"
            ],
            "application/vnd.google.colaboratory.intrinsic+json": {
              "type": "dataframe",
              "variable_name": "df",
              "summary": "{\n  \"name\": \"df\",\n  \"rows\": 158,\n  \"fields\": [\n    {\n      \"column\": \"Ship_name\",\n      \"properties\": {\n        \"dtype\": \"string\",\n        \"num_unique_values\": 138,\n        \"samples\": [\n          \"MarcoPolo\",\n          \"Royal\",\n          \"Imagination\"\n        ],\n        \"semantic_type\": \"\",\n        \"description\": \"\"\n      }\n    },\n    {\n      \"column\": \"Cruise_line\",\n      \"properties\": {\n        \"dtype\": \"category\",\n        \"num_unique_values\": 20,\n        \"samples\": [\n          \"Azamara\",\n          \"Silversea\",\n          \"Royal_Caribbean\"\n        ],\n        \"semantic_type\": \"\",\n        \"description\": \"\"\n      }\n    },\n    {\n      \"column\": \"Age\",\n      \"properties\": {\n        \"dtype\": \"int32\",\n        \"num_unique_values\": 31,\n        \"samples\": [\n          40,\n          14,\n          25\n        ],\n        \"semantic_type\": \"\",\n        \"description\": \"\"\n      }\n    },\n    {\n      \"column\": \"Tonnage\",\n      \"properties\": {\n        \"dtype\": \"number\",\n        \"std\": 37.22954002590786,\n        \"min\": 2.329,\n        \"max\": 220.0,\n        \"num_unique_values\": 94,\n        \"samples\": [\n          58.6,\n          53.049,\n          22.08\n        ],\n        \"semantic_type\": \"\",\n        \"description\": \"\"\n      }\n    },\n    {\n      \"column\": \"num_passengers\",\n      \"properties\": {\n        \"dtype\": \"number\",\n        \"std\": 9.677094775143413,\n        \"min\": 0.66,\n        \"max\": 54.0,\n        \"num_unique_values\": 104,\n        \"samples\": [\n          20.0,\n          35.74,\n          20.16\n        ],\n        \"semantic_type\": \"\",\n        \"description\": \"\"\n      }\n    },\n    {\n      \"column\": \"length\",\n      \"properties\": {\n        \"dtype\": \"number\",\n        \"std\": 1.7934735480548252,\n        \"min\": 2.79,\n        \"max\": 11.82,\n        \"num_unique_values\": 80,\n        \"samples\": [\n          7.19,\n          5.94,\n          9.6\n        ],\n        \"semantic_type\": \"\",\n        \"description\": \"\"\n      }\n    },\n    {\n      \"column\": \"cabins\",\n      \"properties\": {\n        \"dtype\": \"number\",\n        \"std\": 4.4714172221480615,\n        \"min\": 0.33,\n        \"max\": 27.0,\n        \"num_unique_values\": 98,\n        \"samples\": [\n          9.14,\n          16.37,\n          7.76\n        ],\n        \"semantic_type\": \"\",\n        \"description\": \"\"\n      }\n    },\n    {\n      \"column\": \"passenger_density\",\n      \"properties\": {\n        \"dtype\": \"number\",\n        \"std\": 8.639217113915416,\n        \"min\": 17.7,\n        \"max\": 71.43,\n        \"num_unique_values\": 109,\n        \"samples\": [\n          41.88,\n          36.81,\n          34.29\n        ],\n        \"semantic_type\": \"\",\n        \"description\": \"\"\n      }\n    },\n    {\n      \"column\": \"crew\",\n      \"properties\": {\n        \"dtype\": \"number\",\n        \"std\": 3.5034865646270332,\n        \"min\": 0.59,\n        \"max\": 21.0,\n        \"num_unique_values\": 91,\n        \"samples\": [\n          5.35,\n          7.66,\n          8.69\n        ],\n        \"semantic_type\": \"\",\n        \"description\": \"\"\n      }\n    },\n    {\n      \"column\": \"passenger_crew_ratio\",\n      \"properties\": {\n        \"dtype\": \"number\",\n        \"std\": 0.5194843443332153,\n        \"min\": 1.1186440677966103,\n        \"max\": 4.253731343283582,\n        \"num_unique_values\": 124,\n        \"samples\": [\n          4.253731343283582,\n          2.0496894409937885,\n          2.3000000000000003\n        ],\n        \"semantic_type\": \"\",\n        \"description\": \"\"\n      }\n    }\n  ]\n}"
            }
          },
          "metadata": {},
          "execution_count": 27
        }
      ]
    },
    {
      "cell_type": "code",
      "source": [
        "df_group = df.groupby('Cruise_line').mean(numeric_only=True).reset_index()\n",
        "\n",
        "df_group.plot(kind='bar', x='Cruise_line', y=['Age', 'num_passengers'], figsize=(12, 6),\n",
        "              ylabel='Середнє значення', xlabel='Круїзна лінія')\n",
        "plt.title(\"Середні значення віку і кількості пазажирів за круїзними лініями\")\n",
        "plt.tight_layout()\n",
        "plt.show()"
      ],
      "metadata": {
        "colab": {
          "base_uri": "https://localhost:8080/",
          "height": 431
        },
        "id": "ZSKf-Lt5arNq",
        "outputId": "0c1be7eb-46a4-47f9-c733-891914c84699"
      },
      "execution_count": null,
      "outputs": [
        {
          "output_type": "display_data",
          "data": {
            "text/plain": [
              "<Figure size 1200x600 with 1 Axes>"
            ],
            "image/png": "[encoded data removed]"
          },
          "metadata": {}
        }
      ]
    },
    {
      "cell_type": "code",
      "source": [
        "age = df.groupby('Cruise_line')['Age'].agg(['min', 'mean', 'max']).reset_index()\n",
        "\n",
        "age.plot(kind='barh', x='Cruise_line', y=['min', 'mean', 'max'],\n",
        "         figsize=(12, 20), ylabel='Вік суден', xlabel='Круїзна лінія')\n",
        "\n",
        "plt.title(\"Мінімальний, середній та максимальний вік по круїзних лініях\")\n",
        "plt.xticks(rotation=45)\n",
        "plt.tight_layout()\n",
        "plt.show()"
      ],
      "metadata": {
        "colab": {
          "base_uri": "https://localhost:8080/",
          "height": 1000
        },
        "id": "ngAIjxxUarKb",
        "outputId": "0dafc927-73ab-490d-8b7f-666582098907"
      },
      "execution_count": null,
      "outputs": [
        {
          "output_type": "display_data",
          "data": {
            "text/plain": [
              "<Figure size 1200x2000 with 1 Axes>"
            ],
            "image/png": "[encoded data removed]"
          },
          "metadata": {}
        }
      ]
    },
    {
      "cell_type": "code",
      "source": [
        "df.plot(kind='scatter', x='Tonnage', y='num_passengers', figsize=(8, 6))\n",
        "plt.title('Кореляція між кількістю пасажирів і тоннажем судна')\n",
        "plt.show()"
      ],
      "metadata": {
        "colab": {
          "base_uri": "https://localhost:8080/",
          "height": 564
        },
        "id": "PmQGaDSAnAhe",
        "outputId": "5fb95cbb-72e7-4dad-e88b-76ab90244732"
      },
      "execution_count": null,
      "outputs": [
        {
          "output_type": "display_data",
          "data": {
            "text/plain": [
              "<Figure size 800x600 with 1 Axes>"
            ],
            "image/png": "[encoded data removed]"
          },
          "metadata": {}
        }
      ]
    },
    {
      "cell_type": "markdown",
      "source": [
        "Запис/збереження даних у файл"
      ],
      "metadata": {
        "id": "4eHQurzjq426"
      }
    },
    {
      "cell_type": "code",
      "execution_count": null,
      "metadata": {
        "id": "A5IXl4ydMTlh"
      },
      "outputs": [],
      "source": [
        "# CSV\n",
        "data.write.csv('dataset.csv')\n",
        "\n",
        "# JSON\n",
        "data.write.save('dataset.json', format='json')\n",
        "\n",
        "# Parquet\n",
        "data.write.save('dataset.parquet', format='parquet')\n",
        "\n",
        "# Записвибраних даних в різні види файлів\n",
        "\n",
        "# CSV\n",
        "data.select(['data', 'open', 'close', 'adjusted'])\\\n",
        "    .write.csv('dataset.csv')\n",
        "\n",
        "# JSON\n",
        "data.select(['data', 'open', 'close', 'adjusted'])\\\n",
        "    .write.save('dataset.json', format='json')\n",
        "\n",
        "# Parquet\n",
        "data.select(['data', 'open', 'close', 'adjusted'])\\\n",
        "    .write.save('dataset.parquet', format='parquet')"
      ]
    }
  ],
  "metadata": {
    "colab": {
      "provenance": [],
      "include_colab_link": true
    },
    "kernelspec": {
      "display_name": "Python 3 (ipykernel)",
      "language": "python",
      "name": "python3"
    },
    "language_info": {
      "codemirror_mode": {
        "name": "ipython",
        "version": 3
      },
      "file_extension": ".py",
      "mimetype": "text/x-python",
      "name": "python",
      "nbconvert_exporter": "python",
      "pygments_lexer": "ipython3",
      "version": "3.9.2"
    }
  },
  "nbformat": 4,
  "nbformat_minor": 0
}